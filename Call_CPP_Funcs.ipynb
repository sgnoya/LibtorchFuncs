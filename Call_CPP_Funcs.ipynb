{
 "cells": [
  {
   "cell_type": "code",
   "execution_count": 1,
   "metadata": {},
   "outputs": [],
   "source": [
    "import torch"
   ]
  },
  {
   "cell_type": "markdown",
   "metadata": {},
   "source": [
    "### cpp関数を読み込む"
   ]
  },
  {
   "cell_type": "code",
   "execution_count": 2,
   "metadata": {},
   "outputs": [],
   "source": [
    "path_to_dll = \"./x64/Release/LibtorchVSWin.dll\"\n",
    "torch.ops.load_library(path_to_dll)\n",
    "\n",
    "cpp_matmul = torch.ops.sample.matmul\n",
    "cpp_matsmul = torch.ops.sample.matsmul"
   ]
  },
  {
   "cell_type": "markdown",
   "metadata": {},
   "source": [
    "### matmulをテスト"
   ]
  },
  {
   "cell_type": "code",
   "execution_count": 3,
   "metadata": {},
   "outputs": [
    {
     "name": "stdout",
     "output_type": "stream",
     "text": [
      "25.5 µs ± 1.6 µs per loop (mean ± std. dev. of 7 runs, 10000 loops each)\n",
      "27.7 µs ± 1.73 µs per loop (mean ± std. dev. of 7 runs, 10000 loops each)\n",
      "tensor(0.)\n"
     ]
    }
   ],
   "source": [
    "x = torch.rand((100, 100))\n",
    "y = torch.rand((100, 100))\n",
    "\n",
    "#\n",
    "%timeit x.matmul(y)\n",
    "%timeit cpp_matmul(x, y)\n",
    "\n",
    "#\n",
    "z1 = x.matmul(y)\n",
    "z2 = cpp_matmul(x, y)\n",
    "print((z1 - z2).norm())"
   ]
  },
  {
   "cell_type": "markdown",
   "metadata": {},
   "source": [
    "### matsmulをテスト"
   ]
  },
  {
   "cell_type": "code",
   "execution_count": 4,
   "metadata": {},
   "outputs": [],
   "source": [
    "def matsmul(x, y):\n",
    "    z = []    \n",
    "    for i in range(len(x)):\n",
    "        z.append(x[i] @ y[i])        \n",
    "    return z"
   ]
  },
  {
   "cell_type": "code",
   "execution_count": 5,
   "metadata": {},
   "outputs": [
    {
     "name": "stdout",
     "output_type": "stream",
     "text": [
      "805 µs ± 20.1 µs per loop (mean ± std. dev. of 7 runs, 1000 loops each)\n",
      "761 µs ± 26.5 µs per loop (mean ± std. dev. of 7 runs, 1000 loops each)\n",
      "tensor(0.)\n"
     ]
    }
   ],
   "source": [
    "n = 30\n",
    "x = []\n",
    "y = []\n",
    "\n",
    "for i in range(n):\n",
    "    x.append(torch.rand((100, 100)))\n",
    "    y.append(torch.rand((100, 100)))\n",
    "\n",
    "#\n",
    "%timeit matsmul(x, y)\n",
    "%timeit cpp_matsmul(x, y)\n",
    "\n",
    "#\n",
    "z1 = matsmul(x, y)\n",
    "z2 = cpp_matsmul(x, y)\n",
    "\n",
    "residual = 0\n",
    "for i in range(n):\n",
    "    residual += ((z1[i] - z2[i]).norm())\n",
    "print(residual)"
   ]
  }
 ],
 "metadata": {
  "kernelspec": {
   "display_name": "Python 3",
   "language": "python",
   "name": "python3"
  },
  "language_info": {
   "codemirror_mode": {
    "name": "ipython",
    "version": 3
   },
   "file_extension": ".py",
   "mimetype": "text/x-python",
   "name": "python",
   "nbconvert_exporter": "python",
   "pygments_lexer": "ipython3",
   "version": "3.7.7"
  }
 },
 "nbformat": 4,
 "nbformat_minor": 4
}
